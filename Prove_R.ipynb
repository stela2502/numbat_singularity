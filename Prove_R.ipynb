{
 "cells": [
  {
   "cell_type": "code",
   "execution_count": 1,
   "id": "2cfe1ffc-b060-4f12-85df-daccdec9060d",
   "metadata": {},
   "outputs": [
    {
     "name": "stderr",
     "output_type": "stream",
     "text": [
      "Loading required package: Matrix\n",
      "\n"
     ]
    }
   ],
   "source": [
    "library(numbat)"
   ]
  },
  {
   "cell_type": "code",
   "execution_count": 2,
   "id": "38fae0c2-479c-4b94-b857-4e040759ffb3",
   "metadata": {},
   "outputs": [
    {
     "data": {
      "text/plain": [
       "R version 4.3.0 (2023-04-21)\n",
       "Platform: x86_64-pc-linux-gnu (64-bit)\n",
       "Running under: Ubuntu 22.04 LTS\n",
       "\n",
       "Matrix products: default\n",
       "BLAS:   /usr/lib/x86_64-linux-gnu/openblas-pthread/libblas.so.3 \n",
       "LAPACK: /usr/lib/x86_64-linux-gnu/openblas-pthread/libopenblasp-r0.3.20.so;  LAPACK version 3.10.0\n",
       "\n",
       "locale:\n",
       " [1] LC_CTYPE=C.UTF-8    LC_NUMERIC=C        LC_TIME=C          \n",
       " [4] LC_COLLATE=C        LC_MONETARY=C       LC_MESSAGES=C      \n",
       " [7] LC_PAPER=C          LC_NAME=C           LC_ADDRESS=C       \n",
       "[10] LC_TELEPHONE=C      LC_MEASUREMENT=C    LC_IDENTIFICATION=C\n",
       "\n",
       "time zone: Etc/UTC\n",
       "tzcode source: system (glibc)\n",
       "\n",
       "attached base packages:\n",
       "[1] stats     graphics  grDevices utils     datasets  methods   base     \n",
       "\n",
       "other attached packages:\n",
       "[1] numbat_1.3.0 Matrix_1.5-1\n",
       "\n",
       "loaded via a namespace (and not attached):\n",
       " [1] fastmatch_1.1-3     gtable_0.3.3        ggplot2_3.4.2      \n",
       " [4] parallelDist_0.2.6  ggrepel_0.9.3       lattice_0.21-8     \n",
       " [7] quadprog_1.5-8      vctrs_0.6.2         tools_4.3.0        \n",
       "[10] generics_0.1.3      yulab.utils_0.0.6   parallel_4.3.0     \n",
       "[13] tibble_3.2.1        fansi_1.0.4         pkgconfig_2.0.3    \n",
       "[16] data.table_1.14.8   ggplotify_0.1.0     RcppParallel_5.1.7 \n",
       "[19] uuid_1.1-0          lifecycle_1.0.3     compiler_4.3.0     \n",
       "[22] farver_2.1.1        stringr_1.5.0       treeio_1.23.1      \n",
       "[25] RhpcBLASctl_0.23-42 munsell_0.5.0       ggforce_0.4.1      \n",
       "[28] repr_1.1.6          codetools_0.2-19    graphlayouts_1.0.0 \n",
       "[31] ggtree_3.9.0        ggfun_0.0.9         htmltools_0.5.5    \n",
       "[34] lazyeval_0.2.2      pillar_1.9.0        crayon_1.5.2       \n",
       "[37] tidyr_1.3.0         MASS_7.3-59         scistreer_1.1.0    \n",
       "[40] viridis_0.6.3       nlme_3.1-162        phangorn_2.11.1    \n",
       "[43] tidyselect_1.2.0    aplot_0.1.10        digest_0.6.31      \n",
       "[46] stringi_1.7.12      dplyr_1.1.2         purrr_1.0.1        \n",
       "[49] polyclip_1.10-4     fastmap_1.1.1       grid_4.3.0         \n",
       "[52] colorspace_2.1-0    cli_3.6.1           logger_0.2.2       \n",
       "[55] magrittr_2.0.3      patchwork_1.1.2     base64enc_0.1-3    \n",
       "[58] ggraph_2.1.0        tidygraph_1.2.3     utf8_1.2.3         \n",
       "[61] IRdisplay_1.1       ape_5.7-1           withr_2.5.0        \n",
       "[64] scales_1.2.1        IRkernel_1.3.2.9000 igraph_1.4.2       \n",
       "[67] gridExtra_2.3       pbdZMQ_0.3-9        evaluate_0.21      \n",
       "[70] viridisLite_0.4.2   gridGraphics_0.5-1  rlang_1.1.1        \n",
       "[73] Rcpp_1.0.10         glue_1.6.2          tidytree_0.4.2     \n",
       "[76] tweenr_2.0.2        jsonlite_1.8.4      R6_2.5.1           "
      ]
     },
     "metadata": {},
     "output_type": "display_data"
    }
   ],
   "source": [
    "sessionInfo()"
   ]
  },
  {
   "cell_type": "code",
   "execution_count": null,
   "id": "23a82106-691d-43da-bb74-b3f3248e3b67",
   "metadata": {},
   "outputs": [],
   "source": []
  }
 ],
 "metadata": {
  "kernelspec": {
   "display_name": "R",
   "language": "R",
   "name": "ir"
  },
  "language_info": {
   "codemirror_mode": "r",
   "file_extension": ".r",
   "mimetype": "text/x-r-source",
   "name": "R",
   "pygments_lexer": "r",
   "version": "4.3.0"
  }
 },
 "nbformat": 4,
 "nbformat_minor": 5
}
