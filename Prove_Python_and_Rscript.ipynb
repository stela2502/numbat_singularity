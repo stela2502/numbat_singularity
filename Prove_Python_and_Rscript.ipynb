{
 "cells": [
  {
   "cell_type": "code",
   "execution_count": 1,
   "id": "5fa22b0e-35b6-4d9e-a76c-cb0cc2b6a8eb",
   "metadata": {},
   "outputs": [
    {
     "name": "stdout",
     "output_type": "stream",
     "text": [
      "During startup - Warning messages:\n",
      "1: Setting LC_COLLATE failed, using \"C\" \n",
      "2: Setting LC_TIME failed, using \"C\" \n",
      "3: Setting LC_MESSAGES failed, using \"C\" \n",
      "4: Setting LC_MONETARY failed, using \"C\" \n",
      "5: Setting LC_PAPER failed, using \"C\" \n",
      "6: Setting LC_MEASUREMENT failed, using \"C\" \n",
      "Usage: /usr/bin/pileup_and_phase.R [options]\n",
      "Run SNP pileup and phasing with 1000G\n",
      "\n",
      "Options:\n",
      "\t-h, --help\n",
      "\t\tShow this help message and exit\n",
      "\n",
      "\t--label=LABEL\n",
      "\t\tIndividual label. One per run.\n",
      "\n",
      "\t--samples=SAMPLES\n",
      "\t\tSample name(s); comma delimited if multiple. All samples must belong to the same individual.\n",
      "\n",
      "\t--bams=BAMS\n",
      "\t\tBAM file(s); one per sample, comma delimited if multiple.\n",
      "\n",
      "\t--barcodes=BARCODES\n",
      "\t\tCell barcode file(s); one per sample, comma delimited if multiple.\n",
      "\n",
      "\t--gmap=GMAP\n",
      "\t\tPath to genetic map provided by Eagle2 (e.g. Eagle_v2.4.1/tables/genetic_map_hg38_withX.txt.gz)\n",
      "\n",
      "\t--eagle=EAGLE\n",
      "\t\tPath to Eagle2 binary file\n",
      "\n",
      "\t--snpvcf=SNPVCF\n",
      "\t\tSNP VCF for pileup\n",
      "\n",
      "\t--paneldir=PANELDIR\n",
      "\t\tDirectory to phasing reference panel (BCF files)\n",
      "\n",
      "\t--outdir=OUTDIR\n",
      "\t\tOutput directory\n",
      "\n",
      "\t--ncores=NCORES\n",
      "\t\tNumber of cores\n",
      "\n",
      "\t--UMItag=UMITAG\n",
      "\t\tUMI tag in bam; should be Auto for 10x and XM for Slide-seq\n",
      "\n",
      "\t--cellTAG=CELLTAG\n",
      "\t\tCell tag in bam; should be CB for 10x and XC for Slide-seq\n",
      "\n",
      "\t--smartseq\n",
      "\t\tRunning with SMART-seq mode; Supply a txt file containing directories of BAM files to --bams and a txt file containing cell names to --barcodes (each entry on its own line for both; ordering must match).\n",
      "\n",
      "\t--bulk\n",
      "\t\tRunning with bulk RNA-seq mode\n",
      "\n",
      "\n"
     ]
    }
   ],
   "source": [
    "! pileup_and_phase.R -h"
   ]
  },
  {
   "cell_type": "code",
   "execution_count": null,
   "id": "216f8163-b9f6-4942-981f-8b9bcdc85c0c",
   "metadata": {},
   "outputs": [],
   "source": []
  }
 ],
 "metadata": {
  "kernelspec": {
   "display_name": "Python 3 (ipykernel)",
   "language": "python",
   "name": "python3"
  },
  "language_info": {
   "codemirror_mode": {
    "name": "ipython",
    "version": 3
   },
   "file_extension": ".py",
   "mimetype": "text/x-python",
   "name": "python",
   "nbconvert_exporter": "python",
   "pygments_lexer": "ipython3",
   "version": "3.10.4"
  }
 },
 "nbformat": 4,
 "nbformat_minor": 5
}
